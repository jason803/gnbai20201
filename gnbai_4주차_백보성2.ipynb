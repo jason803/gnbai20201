{
  "nbformat": 4,
  "nbformat_minor": 0,
  "metadata": {
    "colab": {
      "name": "gnbai_4주차_백보성.ipynb",
      "provenance": [],
      "toc_visible": true,
      "mount_file_id": "111HqZexGaQcFTvwYCOInKajXMxwZQVCU",
      "authorship_tag": "ABX9TyNTiOuq+xHaZFyv3al88rFU",
      "include_colab_link": true
    },
    "kernelspec": {
      "name": "python3",
      "display_name": "Python 3"
    }
  },
  "cells": [
    {
      "cell_type": "markdown",
      "metadata": {
        "id": "view-in-github",
        "colab_type": "text"
      },
      "source": [
        "<a href=\"https://colab.research.google.com/github/jason803/gnbai20201/blob/master/gnbai_4%EC%A3%BC%EC%B0%A8_%EB%B0%B1%EB%B3%B4%EC%84%B12.ipynb\" target=\"_parent\"><img src=\"https://colab.research.google.com/assets/colab-badge.svg\" alt=\"Open In Colab\"/></a>"
      ]
    },
    {
      "cell_type": "markdown",
      "metadata": {
        "id": "poJQLy_G9EBk",
        "colab_type": "text"
      },
      "source": [
        "# 1. Imports\n"
      ]
    },
    {
      "cell_type": "code",
      "metadata": {
        "id": "0B4Q8V8F2agz",
        "colab_type": "code",
        "colab": {}
      },
      "source": [
        "import numpy as np\n",
        "import pandas as pd\n",
        "import matplotlib.pyplot as plt"
      ],
      "execution_count": 0,
      "outputs": []
    },
    {
      "cell_type": "code",
      "metadata": {
        "id": "orLIykye9qAi",
        "colab_type": "code",
        "colab": {}
      },
      "source": [
        "columns = ['x1', 'x2', 'y']\n",
        "data = pd.read_csv(\"/content/drive/My Drive/Colab Notebooks/data_lab3.txt\", names = columns, sep = ' ')"
      ],
      "execution_count": 0,
      "outputs": []
    },
    {
      "cell_type": "code",
      "metadata": {
        "id": "L27dJJWE9xk2",
        "colab_type": "code",
        "outputId": "f25ee918-64e0-4a70-9617-a787d7739b13",
        "colab": {
          "base_uri": "https://localhost:8080/",
          "height": 1000
        }
      },
      "source": [
        "data"
      ],
      "execution_count": 6,
      "outputs": [
        {
          "output_type": "execute_result",
          "data": {
            "text/html": [
              "<div>\n",
              "<style scoped>\n",
              "    .dataframe tbody tr th:only-of-type {\n",
              "        vertical-align: middle;\n",
              "    }\n",
              "\n",
              "    .dataframe tbody tr th {\n",
              "        vertical-align: top;\n",
              "    }\n",
              "\n",
              "    .dataframe thead th {\n",
              "        text-align: right;\n",
              "    }\n",
              "</style>\n",
              "<table border=\"1\" class=\"dataframe\">\n",
              "  <thead>\n",
              "    <tr style=\"text-align: right;\">\n",
              "      <th></th>\n",
              "      <th>x1</th>\n",
              "      <th>x2</th>\n",
              "      <th>y</th>\n",
              "    </tr>\n",
              "  </thead>\n",
              "  <tbody>\n",
              "    <tr>\n",
              "      <th>0</th>\n",
              "      <td>1.964300</td>\n",
              "      <td>4.5957</td>\n",
              "      <td>1</td>\n",
              "    </tr>\n",
              "    <tr>\n",
              "      <th>1</th>\n",
              "      <td>2.275300</td>\n",
              "      <td>3.8589</td>\n",
              "      <td>1</td>\n",
              "    </tr>\n",
              "    <tr>\n",
              "      <th>2</th>\n",
              "      <td>2.978100</td>\n",
              "      <td>4.5651</td>\n",
              "      <td>1</td>\n",
              "    </tr>\n",
              "    <tr>\n",
              "      <th>3</th>\n",
              "      <td>2.932000</td>\n",
              "      <td>3.5519</td>\n",
              "      <td>1</td>\n",
              "    </tr>\n",
              "    <tr>\n",
              "      <th>4</th>\n",
              "      <td>3.577200</td>\n",
              "      <td>2.8560</td>\n",
              "      <td>1</td>\n",
              "    </tr>\n",
              "    <tr>\n",
              "      <th>5</th>\n",
              "      <td>4.015000</td>\n",
              "      <td>3.1937</td>\n",
              "      <td>1</td>\n",
              "    </tr>\n",
              "    <tr>\n",
              "      <th>6</th>\n",
              "      <td>3.381400</td>\n",
              "      <td>3.4291</td>\n",
              "      <td>1</td>\n",
              "    </tr>\n",
              "    <tr>\n",
              "      <th>7</th>\n",
              "      <td>3.911300</td>\n",
              "      <td>4.1761</td>\n",
              "      <td>1</td>\n",
              "    </tr>\n",
              "    <tr>\n",
              "      <th>8</th>\n",
              "      <td>2.782200</td>\n",
              "      <td>4.0431</td>\n",
              "      <td>1</td>\n",
              "    </tr>\n",
              "    <tr>\n",
              "      <th>9</th>\n",
              "      <td>2.551800</td>\n",
              "      <td>4.6162</td>\n",
              "      <td>1</td>\n",
              "    </tr>\n",
              "    <tr>\n",
              "      <th>10</th>\n",
              "      <td>3.369800</td>\n",
              "      <td>3.9101</td>\n",
              "      <td>1</td>\n",
              "    </tr>\n",
              "    <tr>\n",
              "      <th>11</th>\n",
              "      <td>3.104800</td>\n",
              "      <td>3.0709</td>\n",
              "      <td>1</td>\n",
              "    </tr>\n",
              "    <tr>\n",
              "      <th>12</th>\n",
              "      <td>1.918200</td>\n",
              "      <td>4.0534</td>\n",
              "      <td>1</td>\n",
              "    </tr>\n",
              "    <tr>\n",
              "      <th>13</th>\n",
              "      <td>2.263800</td>\n",
              "      <td>4.3706</td>\n",
              "      <td>1</td>\n",
              "    </tr>\n",
              "    <tr>\n",
              "      <th>14</th>\n",
              "      <td>2.655500</td>\n",
              "      <td>3.5008</td>\n",
              "      <td>1</td>\n",
              "    </tr>\n",
              "    <tr>\n",
              "      <th>15</th>\n",
              "      <td>3.185500</td>\n",
              "      <td>4.2888</td>\n",
              "      <td>1</td>\n",
              "    </tr>\n",
              "    <tr>\n",
              "      <th>16</th>\n",
              "      <td>3.657900</td>\n",
              "      <td>3.8692</td>\n",
              "      <td>1</td>\n",
              "    </tr>\n",
              "    <tr>\n",
              "      <th>17</th>\n",
              "      <td>3.911300</td>\n",
              "      <td>3.4291</td>\n",
              "      <td>1</td>\n",
              "    </tr>\n",
              "    <tr>\n",
              "      <th>18</th>\n",
              "      <td>3.600200</td>\n",
              "      <td>3.1221</td>\n",
              "      <td>1</td>\n",
              "    </tr>\n",
              "    <tr>\n",
              "      <th>19</th>\n",
              "      <td>3.035700</td>\n",
              "      <td>3.3165</td>\n",
              "      <td>1</td>\n",
              "    </tr>\n",
              "    <tr>\n",
              "      <th>20</th>\n",
              "      <td>1.584100</td>\n",
              "      <td>3.3575</td>\n",
              "      <td>0</td>\n",
              "    </tr>\n",
              "    <tr>\n",
              "      <th>21</th>\n",
              "      <td>2.010300</td>\n",
              "      <td>3.2039</td>\n",
              "      <td>0</td>\n",
              "    </tr>\n",
              "    <tr>\n",
              "      <th>22</th>\n",
              "      <td>1.952700</td>\n",
              "      <td>2.7843</td>\n",
              "      <td>0</td>\n",
              "    </tr>\n",
              "    <tr>\n",
              "      <th>23</th>\n",
              "      <td>2.275300</td>\n",
              "      <td>2.7127</td>\n",
              "      <td>0</td>\n",
              "    </tr>\n",
              "    <tr>\n",
              "      <th>24</th>\n",
              "      <td>2.309900</td>\n",
              "      <td>2.9584</td>\n",
              "      <td>0</td>\n",
              "    </tr>\n",
              "    <tr>\n",
              "      <th>25</th>\n",
              "      <td>2.828300</td>\n",
              "      <td>2.6309</td>\n",
              "      <td>0</td>\n",
              "    </tr>\n",
              "    <tr>\n",
              "      <th>26</th>\n",
              "      <td>3.047300</td>\n",
              "      <td>2.2931</td>\n",
              "      <td>0</td>\n",
              "    </tr>\n",
              "    <tr>\n",
              "      <th>27</th>\n",
              "      <td>2.482700</td>\n",
              "      <td>2.0373</td>\n",
              "      <td>0</td>\n",
              "    </tr>\n",
              "    <tr>\n",
              "      <th>28</th>\n",
              "      <td>2.505700</td>\n",
              "      <td>2.3853</td>\n",
              "      <td>0</td>\n",
              "    </tr>\n",
              "    <tr>\n",
              "      <th>29</th>\n",
              "      <td>1.872100</td>\n",
              "      <td>2.0577</td>\n",
              "      <td>0</td>\n",
              "    </tr>\n",
              "    <tr>\n",
              "      <th>30</th>\n",
              "      <td>2.010300</td>\n",
              "      <td>2.3546</td>\n",
              "      <td>0</td>\n",
              "    </tr>\n",
              "    <tr>\n",
              "      <th>31</th>\n",
              "      <td>1.226900</td>\n",
              "      <td>2.3239</td>\n",
              "      <td>0</td>\n",
              "    </tr>\n",
              "    <tr>\n",
              "      <th>32</th>\n",
              "      <td>1.895100</td>\n",
              "      <td>2.9174</td>\n",
              "      <td>0</td>\n",
              "    </tr>\n",
              "    <tr>\n",
              "      <th>33</th>\n",
              "      <td>1.561000</td>\n",
              "      <td>3.0709</td>\n",
              "      <td>0</td>\n",
              "    </tr>\n",
              "    <tr>\n",
              "      <th>34</th>\n",
              "      <td>1.549500</td>\n",
              "      <td>2.6923</td>\n",
              "      <td>0</td>\n",
              "    </tr>\n",
              "    <tr>\n",
              "      <th>35</th>\n",
              "      <td>1.687800</td>\n",
              "      <td>2.4057</td>\n",
              "      <td>0</td>\n",
              "    </tr>\n",
              "    <tr>\n",
              "      <th>36</th>\n",
              "      <td>1.491900</td>\n",
              "      <td>2.0271</td>\n",
              "      <td>0</td>\n",
              "    </tr>\n",
              "    <tr>\n",
              "      <th>37</th>\n",
              "      <td>0.962000</td>\n",
              "      <td>2.6820</td>\n",
              "      <td>0</td>\n",
              "    </tr>\n",
              "    <tr>\n",
              "      <th>38</th>\n",
              "      <td>1.169300</td>\n",
              "      <td>2.9276</td>\n",
              "      <td>0</td>\n",
              "    </tr>\n",
              "    <tr>\n",
              "      <th>39</th>\n",
              "      <td>0.812200</td>\n",
              "      <td>2.9992</td>\n",
              "      <td>0</td>\n",
              "    </tr>\n",
              "    <tr>\n",
              "      <th>40</th>\n",
              "      <td>0.973500</td>\n",
              "      <td>3.3881</td>\n",
              "      <td>0</td>\n",
              "    </tr>\n",
              "    <tr>\n",
              "      <th>41</th>\n",
              "      <td>1.250000</td>\n",
              "      <td>3.1937</td>\n",
              "      <td>0</td>\n",
              "    </tr>\n",
              "    <tr>\n",
              "      <th>42</th>\n",
              "      <td>1.319100</td>\n",
              "      <td>3.5109</td>\n",
              "      <td>0</td>\n",
              "    </tr>\n",
              "    <tr>\n",
              "      <th>43</th>\n",
              "      <td>2.229200</td>\n",
              "      <td>2.2010</td>\n",
              "      <td>0</td>\n",
              "    </tr>\n",
              "    <tr>\n",
              "      <th>44</th>\n",
              "      <td>2.448200</td>\n",
              "      <td>2.6411</td>\n",
              "      <td>0</td>\n",
              "    </tr>\n",
              "    <tr>\n",
              "      <th>45</th>\n",
              "      <td>2.793800</td>\n",
              "      <td>1.9656</td>\n",
              "      <td>0</td>\n",
              "    </tr>\n",
              "    <tr>\n",
              "      <th>46</th>\n",
              "      <td>2.091000</td>\n",
              "      <td>1.6177</td>\n",
              "      <td>0</td>\n",
              "    </tr>\n",
              "    <tr>\n",
              "      <th>47</th>\n",
              "      <td>2.540300</td>\n",
              "      <td>2.8867</td>\n",
              "      <td>0</td>\n",
              "    </tr>\n",
              "    <tr>\n",
              "      <th>48</th>\n",
              "      <td>0.904400</td>\n",
              "      <td>3.0198</td>\n",
              "      <td>0</td>\n",
              "    </tr>\n",
              "    <tr>\n",
              "      <th>49</th>\n",
              "      <td>0.766150</td>\n",
              "      <td>2.5899</td>\n",
              "      <td>0</td>\n",
              "    </tr>\n",
              "    <tr>\n",
              "      <th>50</th>\n",
              "      <td>0.086405</td>\n",
              "      <td>4.1045</td>\n",
              "      <td>1</td>\n",
              "    </tr>\n",
              "  </tbody>\n",
              "</table>\n",
              "</div>"
            ],
            "text/plain": [
              "          x1      x2  y\n",
              "0   1.964300  4.5957  1\n",
              "1   2.275300  3.8589  1\n",
              "2   2.978100  4.5651  1\n",
              "3   2.932000  3.5519  1\n",
              "4   3.577200  2.8560  1\n",
              "5   4.015000  3.1937  1\n",
              "6   3.381400  3.4291  1\n",
              "7   3.911300  4.1761  1\n",
              "8   2.782200  4.0431  1\n",
              "9   2.551800  4.6162  1\n",
              "10  3.369800  3.9101  1\n",
              "11  3.104800  3.0709  1\n",
              "12  1.918200  4.0534  1\n",
              "13  2.263800  4.3706  1\n",
              "14  2.655500  3.5008  1\n",
              "15  3.185500  4.2888  1\n",
              "16  3.657900  3.8692  1\n",
              "17  3.911300  3.4291  1\n",
              "18  3.600200  3.1221  1\n",
              "19  3.035700  3.3165  1\n",
              "20  1.584100  3.3575  0\n",
              "21  2.010300  3.2039  0\n",
              "22  1.952700  2.7843  0\n",
              "23  2.275300  2.7127  0\n",
              "24  2.309900  2.9584  0\n",
              "25  2.828300  2.6309  0\n",
              "26  3.047300  2.2931  0\n",
              "27  2.482700  2.0373  0\n",
              "28  2.505700  2.3853  0\n",
              "29  1.872100  2.0577  0\n",
              "30  2.010300  2.3546  0\n",
              "31  1.226900  2.3239  0\n",
              "32  1.895100  2.9174  0\n",
              "33  1.561000  3.0709  0\n",
              "34  1.549500  2.6923  0\n",
              "35  1.687800  2.4057  0\n",
              "36  1.491900  2.0271  0\n",
              "37  0.962000  2.6820  0\n",
              "38  1.169300  2.9276  0\n",
              "39  0.812200  2.9992  0\n",
              "40  0.973500  3.3881  0\n",
              "41  1.250000  3.1937  0\n",
              "42  1.319100  3.5109  0\n",
              "43  2.229200  2.2010  0\n",
              "44  2.448200  2.6411  0\n",
              "45  2.793800  1.9656  0\n",
              "46  2.091000  1.6177  0\n",
              "47  2.540300  2.8867  0\n",
              "48  0.904400  3.0198  0\n",
              "49  0.766150  2.5899  0\n",
              "50  0.086405  4.1045  1"
            ]
          },
          "metadata": {
            "tags": []
          },
          "execution_count": 6
        }
      ]
    },
    {
      "cell_type": "markdown",
      "metadata": {
        "id": "YbGnVqGm-a8H",
        "colab_type": "text"
      },
      "source": [
        "### 3. define x"
      ]
    },
    {
      "cell_type": "code",
      "metadata": {
        "id": "N1NjVM_8-ZyJ",
        "colab_type": "code",
        "colab": {}
      },
      "source": [
        "data_np = np.asarray(data)\n",
        "\n",
        "# shuffle data\n",
        "np.random.shuffle(data_np)\n",
        "\n",
        "# define x\n",
        "x = data_np[:, :2] #: ->전부다 :2 -> 2번째칸 전부\n",
        "\n",
        "# define y\n",
        "labels = data_np[:, 2].astype(np.int)\n",
        "y = np.identity(2)[labels]"
      ],
      "execution_count": 0,
      "outputs": []
    },
    {
      "cell_type": "code",
      "metadata": {
        "id": "M0QoKrg2ACek",
        "colab_type": "code",
        "outputId": "dc9e17cf-b2b9-47d0-9707-a1afe8a0122a",
        "colab": {
          "base_uri": "https://localhost:8080/",
          "height": 71
        }
      },
      "source": [
        "labels"
      ],
      "execution_count": 8,
      "outputs": [
        {
          "output_type": "execute_result",
          "data": {
            "text/plain": [
              "array([0, 1, 1, 1, 0, 0, 0, 1, 0, 0, 0, 1, 1, 0, 0, 0, 1, 1, 1, 1, 0, 0,\n",
              "       1, 0, 0, 0, 1, 1, 0, 0, 0, 0, 0, 0, 1, 1, 0, 0, 0, 1, 1, 0, 1, 1,\n",
              "       0, 0, 1, 0, 1, 0, 0])"
            ]
          },
          "metadata": {
            "tags": []
          },
          "execution_count": 8
        }
      ]
    },
    {
      "cell_type": "code",
      "metadata": {
        "id": "2TTj8tD7Au7q",
        "colab_type": "code",
        "colab": {}
      },
      "source": [
        "#define I, N, J, K\n",
        "\n",
        "I, N = x.shape #unpacking\n",
        "J = y.shape[1] #yshape의 두번째 값\n",
        "K = 5"
      ],
      "execution_count": 0,
      "outputs": []
    },
    {
      "cell_type": "code",
      "metadata": {
        "id": "8S85RwzHBV98",
        "colab_type": "code",
        "colab": {}
      },
      "source": [
        "# x_bar -> 안바뀌므로 미리 해둠.\n",
        "x_bar = np.hstack((np.ones((I, 1)), x))\n",
        "\n",
        "#initialize parameters\n",
        "v = np.random.rand(N+1, K)#rand함수 주어진 크기의 행렬 형성\n",
        "w = np.random.rand(K+1, J)"
      ],
      "execution_count": 0,
      "outputs": []
    },
    {
      "cell_type": "code",
      "metadata": {
        "id": "mTUo79zhCb0b",
        "colab_type": "code",
        "outputId": "96701b19-98df-4be9-dea1-a5265c5a5b2d",
        "colab": {
          "base_uri": "https://localhost:8080/",
          "height": 125
        }
      },
      "source": [
        "w"
      ],
      "execution_count": 11,
      "outputs": [
        {
          "output_type": "execute_result",
          "data": {
            "text/plain": [
              "array([[0.1553578 , 0.51917492],\n",
              "       [0.21099921, 0.8988923 ],\n",
              "       [0.72387908, 0.88824525],\n",
              "       [0.92599345, 0.08068309],\n",
              "       [0.08913028, 0.13424248],\n",
              "       [0.59650214, 0.7757786 ]])"
            ]
          },
          "metadata": {
            "tags": []
          },
          "execution_count": 11
        }
      ]
    },
    {
      "cell_type": "markdown",
      "metadata": {
        "id": "9_a95tZBCzGV",
        "colab_type": "text"
      },
      "source": [
        "### 4. Train"
      ]
    },
    {
      "cell_type": "code",
      "metadata": {
        "id": "Dak0YWVKC02G",
        "colab_type": "code",
        "colab": {}
      },
      "source": [
        "#define hyperparameters\n",
        "\n",
        "alpha1 = 0.01\n",
        "alpha2 = 0.01\n",
        "\n",
        "max_epoch = 3000"
      ],
      "execution_count": 0,
      "outputs": []
    },
    {
      "cell_type": "code",
      "metadata": {
        "id": "07ext-4HDyjD",
        "colab_type": "code",
        "colab": {}
      },
      "source": [
        "def sigmoid(z):\n",
        "  return 1./(np.ones_like(z)+np.exp(-z))"
      ],
      "execution_count": 0,
      "outputs": []
    },
    {
      "cell_type": "code",
      "metadata": {
        "id": "iZSlO3KaHrzO",
        "colab_type": "code",
        "colab": {}
      },
      "source": [
        "def SSE(g, y): #g예측값 y정답\n",
        "  result = 0\n",
        "  for i in range(g.shape[0]):\n",
        "    for j in range(g.shape[1]):\n",
        "      result += (g[i, j] - y[i, j])**2\n",
        "\n",
        "  return result/2"
      ],
      "execution_count": 0,
      "outputs": []
    },
    {
      "cell_type": "code",
      "metadata": {
        "id": "tn0bsjv8DLqm",
        "colab_type": "code",
        "outputId": "c671d52c-7715-4114-9005-50d70c82b8f2",
        "colab": {
          "base_uri": "https://localhost:8080/",
          "height": 557
        }
      },
      "source": [
        "for epoch in range(max_epoch):\n",
        "  # forward propagation 순전파\n",
        "\n",
        "  x_bar_bar = np.dot(x_bar, v) #내적\n",
        "  F = sigmoid(x_bar_bar)\n",
        "  F_bar = np.hstack((np.ones((I, 1)), F))\n",
        "  F_bar_bar = np.dot(F_bar, w)\n",
        "  G = sigmoid(F_bar_bar)\n",
        "\n",
        "  # backward propagation 역전파\n",
        "\n",
        "  # 출력층 단계\n",
        "  for k in range(0, K+1):\n",
        "    for j in range(0, J):\n",
        "      for i in range(0, I):\n",
        "        w[k, j] -= alpha1*(G[i, j] - y[i, j])*G[i, j]*(1-G[i, j])*F_bar[i, k]\n",
        "\n",
        "  # 은닉층 단계\n",
        "  for n in range(0, N+1):\n",
        "    for k in range(0, K): #1부터 K, I, J인데 그냥 0부터함\n",
        "      for i in range(0, I):\n",
        "        for j in range(0, J):\n",
        "          v[n, k] -= alpha2*(G[i, j]-y[i, j])*G[i, j]*(1-G[i, j])*w[k, j]*F[i, k]*(1-F[i, k])*x_bar[i, n]\n",
        "  \n",
        "  error = SSE(G, y)\n",
        "  \n",
        "  if epoch % 100 == 0:\n",
        "    print(\"epoch: %d, error: %.2f\" %(epoch, error))"
      ],
      "execution_count": 15,
      "outputs": [
        {
          "output_type": "stream",
          "text": [
            "epoch: 0, error: 22.95\n",
            "epoch: 100, error: 12.48\n",
            "epoch: 200, error: 12.45\n",
            "epoch: 300, error: 12.36\n",
            "epoch: 400, error: 12.25\n",
            "epoch: 500, error: 12.11\n",
            "epoch: 600, error: 11.94\n",
            "epoch: 700, error: 11.74\n",
            "epoch: 800, error: 11.53\n",
            "epoch: 900, error: 11.19\n",
            "epoch: 1000, error: 10.73\n",
            "epoch: 1100, error: 10.09\n",
            "epoch: 1200, error: 9.66\n",
            "epoch: 1300, error: 8.17\n",
            "epoch: 1400, error: 6.77\n",
            "epoch: 1500, error: 5.67\n",
            "epoch: 1600, error: 6.05\n",
            "epoch: 1700, error: 5.46\n",
            "epoch: 1800, error: 4.52\n",
            "epoch: 1900, error: 3.80\n",
            "epoch: 2000, error: 3.28\n",
            "epoch: 2100, error: 2.89\n",
            "epoch: 2200, error: 2.59\n",
            "epoch: 2300, error: 2.36\n",
            "epoch: 2400, error: 2.18\n",
            "epoch: 2500, error: 2.03\n",
            "epoch: 2600, error: 1.91\n",
            "epoch: 2700, error: 1.81\n",
            "epoch: 2800, error: 1.72\n",
            "epoch: 2900, error: 1.65\n"
          ],
          "name": "stdout"
        }
      ]
    },
    {
      "cell_type": "code",
      "metadata": {
        "id": "IfJXJsR-HP-r",
        "colab_type": "code",
        "outputId": "ba547a02-6946-4845-9613-b0909585a276",
        "colab": {
          "base_uri": "https://localhost:8080/",
          "height": 125
        }
      },
      "source": [
        "w"
      ],
      "execution_count": 16,
      "outputs": [
        {
          "output_type": "execute_result",
          "data": {
            "text/plain": [
              "array([[ 2.35216863, -2.81010132],\n",
              "       [ 2.00587463, -2.01217981],\n",
              "       [ 3.30166716, -3.0420842 ],\n",
              "       [-2.53289746,  2.74109573],\n",
              "       [-6.23278276,  6.08412444],\n",
              "       [ 0.27877342,  0.12557274]])"
            ]
          },
          "metadata": {
            "tags": []
          },
          "execution_count": 16
        }
      ]
    },
    {
      "cell_type": "markdown",
      "metadata": {
        "id": "ZKtXHvN-J9KF",
        "colab_type": "text"
      },
      "source": [
        "###5. Test"
      ]
    },
    {
      "cell_type": "code",
      "metadata": {
        "id": "0V7hAsoOKAQw",
        "colab_type": "code",
        "colab": {}
      },
      "source": [
        "def h(x, v, w):\n",
        "  _x_bar = np.hstack((np.ones((I, 1)), x))\n",
        "  _x_bar_bar = np.dot(_x_bar, v) #내적\n",
        "  _F = sigmoid(_x_bar_bar)\n",
        "  _F_bar = np.hstack((np.ones((I, 1)), _F))\n",
        "  _F_bar_bar = np.dot(_F_bar, w)\n",
        "  _G = sigmoid(_F_bar_bar)\n",
        "\n",
        "  return _G"
      ],
      "execution_count": 0,
      "outputs": []
    },
    {
      "cell_type": "code",
      "metadata": {
        "id": "8vRQL3pfKgc2",
        "colab_type": "code",
        "colab": {}
      },
      "source": [
        "g = h(x, v, w)"
      ],
      "execution_count": 0,
      "outputs": []
    },
    {
      "cell_type": "code",
      "metadata": {
        "id": "hhLCByNsLG3J",
        "colab_type": "code",
        "colab": {}
      },
      "source": [
        "labels = np.argmax(g, axis = 1)"
      ],
      "execution_count": 0,
      "outputs": []
    },
    {
      "cell_type": "markdown",
      "metadata": {
        "id": "bn7Vu3vWLmmI",
        "colab_type": "text"
      },
      "source": [
        "### 6. Plot"
      ]
    },
    {
      "cell_type": "code",
      "metadata": {
        "id": "C94dDxPMLouL",
        "colab_type": "code",
        "colab": {}
      },
      "source": [
        "# 0: 파란색 1: 빨간색\n",
        "\n",
        "x_0 = x[labels == 0]\n",
        "x_1 = x[labels == 1]"
      ],
      "execution_count": 0,
      "outputs": []
    },
    {
      "cell_type": "code",
      "metadata": {
        "id": "m8HyeNs2MVEQ",
        "colab_type": "code",
        "outputId": "bc2e30ca-c661-498b-94ac-097d84f4eac7",
        "colab": {
          "base_uri": "https://localhost:8080/",
          "height": 281
        }
      },
      "source": [
        "plt.plot(x_0[:, 0], x_0[:, 1], 'b.', label='0')\n",
        "plt.plot(x_1[:, 0], x_1[:, 1], 'r.', label='1')\n",
        "plt.title('Plot data') #제목\n",
        "plt.legend() #범례\n",
        "plt.show()"
      ],
      "execution_count": 21,
      "outputs": [
        {
          "output_type": "display_data",
          "data": {
            "image/png": "[encoded data removed]",
            "text/plain": [
              "<Figure size 432x288 with 1 Axes>"
            ]
          },
          "metadata": {
            "tags": [],
            "needs_background": "light"
          }
        }
      ]
    },
    {
      "cell_type": "code",
      "metadata": {
        "id": "vSUUiEdsNUlf",
        "colab_type": "code",
        "outputId": "3c4da91a-8020-45ab-8002-c71302484c64",
        "colab": {
          "base_uri": "https://localhost:8080/",
          "height": 281
        }
      },
      "source": [
        "labels_ori = np.argmax(y, axis=1)\n",
        "x_0_ori = x[labels_ori == 0]\n",
        "x_1_ori = x[labels_ori == 1]\n",
        "\n",
        "plt.plot(x_0_ori[:, 0], x_0_ori[:, 1], 'b.', label='0')\n",
        "plt.plot(x_1_ori[:, 0], x_1_ori[:, 1], 'r.', label='1')\n",
        "plt.title('Plot data') #제목\n",
        "plt.legend() #범례\n",
        "plt.show()"
      ],
      "execution_count": 22,
      "outputs": [
        {
          "output_type": "display_data",
          "data": {
            "image/png": "[encoded data removed]",
            "text/plain": [
              "<Figure size 432x288 with 1 Axes>"
            ]
          },
          "metadata": {
            "tags": [],
            "needs_background": "light"
          }
        }
      ]
    },
    {
      "cell_type": "markdown",
      "metadata": {
        "id": "RYNvJK6F_lIU",
        "colab_type": "text"
      },
      "source": [
        "##iris data읽기"
      ]
    },
    {
      "cell_type": "code",
      "metadata": {
        "id": "Gbc5Ie9l_kQB",
        "colab_type": "code",
        "colab": {}
      },
      "source": [
        "columns = ['x1', 'x2','x3', 'y']\n",
        "data = pd.read_csv(\"/content/drive/My Drive/Colab Notebooks/iris.csv\", names = columns, sep = ',')"
      ],
      "execution_count": 0,
      "outputs": []
    },
    {
      "cell_type": "code",
      "metadata": {
        "id": "qI4fbUZxtFyq",
        "colab_type": "code",
        "colab": {
          "base_uri": "https://localhost:8080/",
          "height": 419
        },
        "outputId": "077b251f-6d1a-4c9f-b508-170e07843aa9"
      },
      "source": [
        "data"
      ],
      "execution_count": 27,
      "outputs": [
        {
          "output_type": "execute_result",
          "data": {
            "text/html": [
              "<div>\n",
              "<style scoped>\n",
              "    .dataframe tbody tr th:only-of-type {\n",
              "        vertical-align: middle;\n",
              "    }\n",
              "\n",
              "    .dataframe tbody tr th {\n",
              "        vertical-align: top;\n",
              "    }\n",
              "\n",
              "    .dataframe thead th {\n",
              "        text-align: right;\n",
              "    }\n",
              "</style>\n",
              "<table border=\"1\" class=\"dataframe\">\n",
              "  <thead>\n",
              "    <tr style=\"text-align: right;\">\n",
              "      <th></th>\n",
              "      <th>x1</th>\n",
              "      <th>x2</th>\n",
              "      <th>x3</th>\n",
              "      <th>y</th>\n",
              "    </tr>\n",
              "  </thead>\n",
              "  <tbody>\n",
              "    <tr>\n",
              "      <th>5.1</th>\n",
              "      <td>3.5</td>\n",
              "      <td>1.4</td>\n",
              "      <td>0.2</td>\n",
              "      <td>Iris-setosa</td>\n",
              "    </tr>\n",
              "    <tr>\n",
              "      <th>4.9</th>\n",
              "      <td>3.0</td>\n",
              "      <td>1.4</td>\n",
              "      <td>0.2</td>\n",
              "      <td>Iris-setosa</td>\n",
              "    </tr>\n",
              "    <tr>\n",
              "      <th>4.7</th>\n",
              "      <td>3.2</td>\n",
              "      <td>1.3</td>\n",
              "      <td>0.2</td>\n",
              "      <td>Iris-setosa</td>\n",
              "    </tr>\n",
              "    <tr>\n",
              "      <th>4.6</th>\n",
              "      <td>3.1</td>\n",
              "      <td>1.5</td>\n",
              "      <td>0.2</td>\n",
              "      <td>Iris-setosa</td>\n",
              "    </tr>\n",
              "    <tr>\n",
              "      <th>5.0</th>\n",
              "      <td>3.6</td>\n",
              "      <td>1.4</td>\n",
              "      <td>0.2</td>\n",
              "      <td>Iris-setosa</td>\n",
              "    </tr>\n",
              "    <tr>\n",
              "      <th>...</th>\n",
              "      <td>...</td>\n",
              "      <td>...</td>\n",
              "      <td>...</td>\n",
              "      <td>...</td>\n",
              "    </tr>\n",
              "    <tr>\n",
              "      <th>6.7</th>\n",
              "      <td>3.0</td>\n",
              "      <td>5.2</td>\n",
              "      <td>2.3</td>\n",
              "      <td>Iris-virginica</td>\n",
              "    </tr>\n",
              "    <tr>\n",
              "      <th>6.3</th>\n",
              "      <td>2.5</td>\n",
              "      <td>5.0</td>\n",
              "      <td>1.9</td>\n",
              "      <td>Iris-virginica</td>\n",
              "    </tr>\n",
              "    <tr>\n",
              "      <th>6.5</th>\n",
              "      <td>3.0</td>\n",
              "      <td>5.2</td>\n",
              "      <td>2.0</td>\n",
              "      <td>Iris-virginica</td>\n",
              "    </tr>\n",
              "    <tr>\n",
              "      <th>6.2</th>\n",
              "      <td>3.4</td>\n",
              "      <td>5.4</td>\n",
              "      <td>2.3</td>\n",
              "      <td>Iris-virginica</td>\n",
              "    </tr>\n",
              "    <tr>\n",
              "      <th>5.9</th>\n",
              "      <td>3.0</td>\n",
              "      <td>5.1</td>\n",
              "      <td>1.8</td>\n",
              "      <td>Iris-virginica</td>\n",
              "    </tr>\n",
              "  </tbody>\n",
              "</table>\n",
              "<p>150 rows × 4 columns</p>\n",
              "</div>"
            ],
            "text/plain": [
              "      x1   x2   x3               y\n",
              "5.1  3.5  1.4  0.2     Iris-setosa\n",
              "4.9  3.0  1.4  0.2     Iris-setosa\n",
              "4.7  3.2  1.3  0.2     Iris-setosa\n",
              "4.6  3.1  1.5  0.2     Iris-setosa\n",
              "5.0  3.6  1.4  0.2     Iris-setosa\n",
              "..   ...  ...  ...             ...\n",
              "6.7  3.0  5.2  2.3  Iris-virginica\n",
              "6.3  2.5  5.0  1.9  Iris-virginica\n",
              "6.5  3.0  5.2  2.0  Iris-virginica\n",
              "6.2  3.4  5.4  2.3  Iris-virginica\n",
              "5.9  3.0  5.1  1.8  Iris-virginica\n",
              "\n",
              "[150 rows x 4 columns]"
            ]
          },
          "metadata": {
            "tags": []
          },
          "execution_count": 27
        }
      ]
    }
  ]
}